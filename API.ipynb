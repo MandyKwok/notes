{
 "cells": [
  {
   "cell_type": "markdown",
   "id": "89a6ff9d",
   "metadata": {},
   "source": [
    "# API\n",
    "Reference: [A Layman’s Guide for Data Scientists to create APIs in minutes](https://towardsdatascience.com/a-layman-guide-for-data-scientists-to-create-apis-in-minutes-31e6f451cd2f)"
   ]
  },
  {
   "cell_type": "code",
   "execution_count": 6,
   "id": "2d681111",
   "metadata": {},
   "outputs": [],
   "source": [
    "# pip install fastapi uvicorn"
   ]
  },
  {
   "cell_type": "markdown",
   "id": "43c0746a",
   "metadata": {},
   "source": [
    "## 1. GET"
   ]
  },
  {
   "cell_type": "markdown",
   "id": "78f32bf0",
   "metadata": {},
   "source": [
    "#### Use FastAPI to create API"
   ]
  },
  {
   "cell_type": "code",
   "execution_count": 3,
   "id": "a9159ab7",
   "metadata": {},
   "outputs": [],
   "source": [
    "from fastapi import FastAPI\n",
    "\n",
    "app = FastAPI()\n",
    "@app.get(\"/predict\")\n",
    "\n",
    "def predict_complex_model(age: int, sex: str):\n",
    "    # Assume a big and complex model here. For this test I am using a simple rule based model\n",
    "    if age < 10 or sex == 'F':\n",
    "        return {'survived' : 1}\n",
    "    else:\n",
    "        return {'survived' : 0}"
   ]
  },
  {
   "cell_type": "markdown",
   "id": "4535f63e",
   "metadata": {},
   "source": [
    "Save the above code in a file named ```fastapiapp.py```<br>\n",
    "In terminal: ```$ uvicorn fastapiapp:app --reload```"
   ]
  },
  {
   "cell_type": "markdown",
   "id": "7d610c5d",
   "metadata": {},
   "source": [
    "Visit the prediction result at http://127.0.0.1:8000/predict?age=10&sex=M"
   ]
  },
  {
   "cell_type": "markdown",
   "id": "228870cd",
   "metadata": {},
   "source": [
    "#### Access GET API programmatically"
   ]
  },
  {
   "cell_type": "code",
   "execution_count": 4,
   "id": "427c2e0b",
   "metadata": {},
   "outputs": [],
   "source": [
    "import requests\n",
    "\n",
    "age = 15\n",
    "sex = \"F\"\n",
    "response = requests.get(f\"http://127.0.0.1:8000/predict?age={age}&sex={sex}\")\n",
    "output = response.json()"
   ]
  },
  {
   "cell_type": "code",
   "execution_count": 5,
   "id": "c7d9f19b",
   "metadata": {},
   "outputs": [
    {
     "data": {
      "text/plain": [
       "{'survived': 1}"
      ]
     },
     "execution_count": 5,
     "metadata": {},
     "output_type": "execute_result"
    }
   ],
   "source": [
    "output"
   ]
  },
  {
   "cell_type": "markdown",
   "id": "cf538b48",
   "metadata": {},
   "source": [
    "A GUI way to test the API: http://127.0.0.1:8000/docs\n",
    "\n",
    "__THIS IS NOT SECURE__ as GET parameters are passed via URL. This means that parameters get stored in server logs and browser history. This is not intended. \n",
    "\n",
    "Further, this toy example just had two input parameters, so we were able to do it this way, think of a case where we need to provide many parameters to our predict function."
   ]
  },
  {
   "cell_type": "markdown",
   "id": "77dbda04",
   "metadata": {},
   "source": [
    "## 2. PUT\n",
    "\n",
    "Using the PUT API, we can call any function by providing a payload to the function. A payload is nothing but a JSON dictionary of input parameters that doesn’t get appended to the query string and is thus much more secure than GET."
   ]
  },
  {
   "cell_type": "code",
   "execution_count": 7,
   "id": "b72d1b74",
   "metadata": {},
   "outputs": [],
   "source": [
    "from fastapi import FastAPI\n",
    "from pydantic import BaseModel\n",
    "\n",
    "class Input(BaseModel):\n",
    "    age : int\n",
    "    sex : str\n",
    "        \n",
    "app = FastAPI()\n",
    "@app.put(\"/predict\")\n",
    "\n",
    "def predict_complex_model(d: Input):\n",
    "    if d.age < 10 or d.sex == 'F':\n",
    "        return {'survived' : 1}\n",
    "    else:\n",
    "        return {'survived' : 0}"
   ]
  },
  {
   "cell_type": "markdown",
   "id": "270bdee6",
   "metadata": {},
   "source": [
    "Save the above code in a file named ```fastapiapp.py```<br>\n",
    "In terminal: ```$ uvicorn fastapiapp:app --reload```"
   ]
  },
  {
   "cell_type": "markdown",
   "id": "eecf463c",
   "metadata": {},
   "source": [
    "Note that we use ```app.put``` here in place of ```app.get``` previously. We also needed to provide a new class ```Input```, which uses a library called ```pydantic``` to validate the input data types that we will get from the API end-user while previously in GET, we validated the inputs using the function parameter list. Also, this time you won’t be able to see your content using a URL on the web."
   ]
  },
  {
   "cell_type": "markdown",
   "id": "062ad1cf",
   "metadata": {},
   "source": [
    "#### Access PUT API programmatically"
   ]
  },
  {
   "cell_type": "code",
   "execution_count": 9,
   "id": "d5b8ad8c",
   "metadata": {},
   "outputs": [
    {
     "data": {
      "text/plain": [
       "{'survived': 1}"
      ]
     },
     "execution_count": 9,
     "metadata": {},
     "output_type": "execute_result"
    }
   ],
   "source": [
    "import requests\n",
    "import json\n",
    "\n",
    "payload = json.dumps({\n",
    "  \"age\" : 10,\n",
    "  \"sex\" : \"F\"\n",
    "})\n",
    "\n",
    "response = requests.put(\"http://127.0.0.1:8000/predict\", data = payload)\n",
    "response.json()"
   ]
  },
  {
   "cell_type": "code",
   "execution_count": null,
   "id": "568682d3",
   "metadata": {},
   "outputs": [],
   "source": []
  }
 ],
 "metadata": {
  "kernelspec": {
   "display_name": "jupyter_env",
   "language": "python",
   "name": "jupyter_env"
  },
  "language_info": {
   "codemirror_mode": {
    "name": "ipython",
    "version": 3
   },
   "file_extension": ".py",
   "mimetype": "text/x-python",
   "name": "python",
   "nbconvert_exporter": "python",
   "pygments_lexer": "ipython3",
   "version": "3.8.8"
  }
 },
 "nbformat": 4,
 "nbformat_minor": 5
}
