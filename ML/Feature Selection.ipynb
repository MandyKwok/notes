{
 "cells": [
  {
   "cell_type": "markdown",
   "id": "34fd9abe",
   "metadata": {},
   "source": [
    "# Feature Selection\n",
    "\n",
    "Reference: [5 Feature Selection Method from Scikit-Learn you should know](https://towardsdatascience.com/5-feature-selection-method-from-scikit-learn-you-should-know-ed4d116e4172)"
   ]
  },
  {
   "cell_type": "markdown",
   "id": "01163dc3",
   "metadata": {},
   "source": [
    "### Table of Contents\n",
    "\n",
    "* [Variance Threshold Feature Selection](#variance_threshold)\n",
    "* [Univariate Feature Selection with SelectKBest](#univariate_feature)\n",
    "* [Recursive Feature Elimination (RFE)](#RFE)\n",
    "* [Feature Selection via SelectFromModel](#select_from_model)\n",
    "* [Feature Selection Sequential Feature Selection (SFS)](#SFS)"
   ]
  },
  {
   "cell_type": "code",
   "execution_count": 1,
   "id": "f679d02d",
   "metadata": {},
   "outputs": [],
   "source": [
    "import pandas as pd\n",
    "import seaborn as sns"
   ]
  },
  {
   "cell_type": "markdown",
   "id": "4bc552b1",
   "metadata": {},
   "source": [
    "### Variance Threshold Feature Selection <a class=\"anchor\" id=\"variance_threshold\"></a>\n",
    "\n",
    "Feature with a higher variance means that the value within that feature varies or has a high cardinality. On the other hand, lower variance means the value within the feature is similar, and zero variance means you have a feature with the same value.\n",
    "\n",
    "The Variance Threshold feature selection only sees the input features (X) without considering any information from the dependent variable (y). It is only useful for eliminating features for __Unsupervised Modelling__ rather than Supervised Modelling."
   ]
  },
  {
   "cell_type": "code",
   "execution_count": 2,
   "id": "6e7ed8c7",
   "metadata": {},
   "outputs": [
    {
     "data": {
      "text/html": [
       "<div>\n",
       "<style scoped>\n",
       "    .dataframe tbody tr th:only-of-type {\n",
       "        vertical-align: middle;\n",
       "    }\n",
       "\n",
       "    .dataframe tbody tr th {\n",
       "        vertical-align: top;\n",
       "    }\n",
       "\n",
       "    .dataframe thead th {\n",
       "        text-align: right;\n",
       "    }\n",
       "</style>\n",
       "<table border=\"1\" class=\"dataframe\">\n",
       "  <thead>\n",
       "    <tr style=\"text-align: right;\">\n",
       "      <th></th>\n",
       "      <th>mpg</th>\n",
       "      <th>cylinders</th>\n",
       "      <th>displacement</th>\n",
       "      <th>horsepower</th>\n",
       "      <th>weight</th>\n",
       "      <th>acceleration</th>\n",
       "      <th>model_year</th>\n",
       "    </tr>\n",
       "  </thead>\n",
       "  <tbody>\n",
       "    <tr>\n",
       "      <th>0</th>\n",
       "      <td>18.0</td>\n",
       "      <td>8</td>\n",
       "      <td>307.0</td>\n",
       "      <td>130.0</td>\n",
       "      <td>3504</td>\n",
       "      <td>12.0</td>\n",
       "      <td>70</td>\n",
       "    </tr>\n",
       "    <tr>\n",
       "      <th>1</th>\n",
       "      <td>15.0</td>\n",
       "      <td>8</td>\n",
       "      <td>350.0</td>\n",
       "      <td>165.0</td>\n",
       "      <td>3693</td>\n",
       "      <td>11.5</td>\n",
       "      <td>70</td>\n",
       "    </tr>\n",
       "    <tr>\n",
       "      <th>2</th>\n",
       "      <td>18.0</td>\n",
       "      <td>8</td>\n",
       "      <td>318.0</td>\n",
       "      <td>150.0</td>\n",
       "      <td>3436</td>\n",
       "      <td>11.0</td>\n",
       "      <td>70</td>\n",
       "    </tr>\n",
       "    <tr>\n",
       "      <th>3</th>\n",
       "      <td>16.0</td>\n",
       "      <td>8</td>\n",
       "      <td>304.0</td>\n",
       "      <td>150.0</td>\n",
       "      <td>3433</td>\n",
       "      <td>12.0</td>\n",
       "      <td>70</td>\n",
       "    </tr>\n",
       "    <tr>\n",
       "      <th>4</th>\n",
       "      <td>17.0</td>\n",
       "      <td>8</td>\n",
       "      <td>302.0</td>\n",
       "      <td>140.0</td>\n",
       "      <td>3449</td>\n",
       "      <td>10.5</td>\n",
       "      <td>70</td>\n",
       "    </tr>\n",
       "  </tbody>\n",
       "</table>\n",
       "</div>"
      ],
      "text/plain": [
       "    mpg  cylinders  displacement  horsepower  weight  acceleration  model_year\n",
       "0  18.0          8         307.0       130.0    3504          12.0          70\n",
       "1  15.0          8         350.0       165.0    3693          11.5          70\n",
       "2  18.0          8         318.0       150.0    3436          11.0          70\n",
       "3  16.0          8         304.0       150.0    3433          12.0          70\n",
       "4  17.0          8         302.0       140.0    3449          10.5          70"
      ]
     },
     "execution_count": 2,
     "metadata": {},
     "output_type": "execute_result"
    }
   ],
   "source": [
    "mpg = sns.load_dataset('mpg').select_dtypes('number')\n",
    "mpg.head()"
   ]
  },
  {
   "cell_type": "markdown",
   "id": "2e2d634e",
   "metadata": {},
   "source": [
    "We need to __transform__ all of these numerical features before we use the Variance Threshold Feature Selection as the variance is affected by the numerical scale."
   ]
  },
  {
   "cell_type": "code",
   "execution_count": 3,
   "id": "527e02bb",
   "metadata": {},
   "outputs": [],
   "source": [
    "from sklearn.preprocessing import StandardScaler\n",
    "scaler = StandardScaler()"
   ]
  },
  {
   "cell_type": "code",
   "execution_count": 4,
   "id": "0e2b9e08",
   "metadata": {},
   "outputs": [
    {
     "data": {
      "text/html": [
       "<div>\n",
       "<style scoped>\n",
       "    .dataframe tbody tr th:only-of-type {\n",
       "        vertical-align: middle;\n",
       "    }\n",
       "\n",
       "    .dataframe tbody tr th {\n",
       "        vertical-align: top;\n",
       "    }\n",
       "\n",
       "    .dataframe thead th {\n",
       "        text-align: right;\n",
       "    }\n",
       "</style>\n",
       "<table border=\"1\" class=\"dataframe\">\n",
       "  <thead>\n",
       "    <tr style=\"text-align: right;\">\n",
       "      <th></th>\n",
       "      <th>mpg</th>\n",
       "      <th>cylinders</th>\n",
       "      <th>displacement</th>\n",
       "      <th>horsepower</th>\n",
       "      <th>weight</th>\n",
       "      <th>acceleration</th>\n",
       "      <th>model_year</th>\n",
       "    </tr>\n",
       "  </thead>\n",
       "  <tbody>\n",
       "    <tr>\n",
       "      <th>0</th>\n",
       "      <td>-0.706439</td>\n",
       "      <td>1.498191</td>\n",
       "      <td>1.090604</td>\n",
       "      <td>0.664133</td>\n",
       "      <td>0.630870</td>\n",
       "      <td>-1.295498</td>\n",
       "      <td>-1.627426</td>\n",
       "    </tr>\n",
       "    <tr>\n",
       "      <th>1</th>\n",
       "      <td>-1.090751</td>\n",
       "      <td>1.498191</td>\n",
       "      <td>1.503514</td>\n",
       "      <td>1.574594</td>\n",
       "      <td>0.854333</td>\n",
       "      <td>-1.477038</td>\n",
       "      <td>-1.627426</td>\n",
       "    </tr>\n",
       "    <tr>\n",
       "      <th>2</th>\n",
       "      <td>-0.706439</td>\n",
       "      <td>1.498191</td>\n",
       "      <td>1.196232</td>\n",
       "      <td>1.184397</td>\n",
       "      <td>0.550470</td>\n",
       "      <td>-1.658577</td>\n",
       "      <td>-1.627426</td>\n",
       "    </tr>\n",
       "    <tr>\n",
       "      <th>3</th>\n",
       "      <td>-0.962647</td>\n",
       "      <td>1.498191</td>\n",
       "      <td>1.061796</td>\n",
       "      <td>1.184397</td>\n",
       "      <td>0.546923</td>\n",
       "      <td>-1.295498</td>\n",
       "      <td>-1.627426</td>\n",
       "    </tr>\n",
       "    <tr>\n",
       "      <th>4</th>\n",
       "      <td>-0.834543</td>\n",
       "      <td>1.498191</td>\n",
       "      <td>1.042591</td>\n",
       "      <td>0.924265</td>\n",
       "      <td>0.565841</td>\n",
       "      <td>-1.840117</td>\n",
       "      <td>-1.627426</td>\n",
       "    </tr>\n",
       "  </tbody>\n",
       "</table>\n",
       "</div>"
      ],
      "text/plain": [
       "        mpg  cylinders  displacement  horsepower    weight  acceleration  \\\n",
       "0 -0.706439   1.498191      1.090604    0.664133  0.630870     -1.295498   \n",
       "1 -1.090751   1.498191      1.503514    1.574594  0.854333     -1.477038   \n",
       "2 -0.706439   1.498191      1.196232    1.184397  0.550470     -1.658577   \n",
       "3 -0.962647   1.498191      1.061796    1.184397  0.546923     -1.295498   \n",
       "4 -0.834543   1.498191      1.042591    0.924265  0.565841     -1.840117   \n",
       "\n",
       "   model_year  \n",
       "0   -1.627426  \n",
       "1   -1.627426  \n",
       "2   -1.627426  \n",
       "3   -1.627426  \n",
       "4   -1.627426  "
      ]
     },
     "execution_count": 4,
     "metadata": {},
     "output_type": "execute_result"
    }
   ],
   "source": [
    "mpg = pd.DataFrame(scaler.fit_transform(mpg), columns = mpg.columns)\n",
    "mpg.head()"
   ]
  },
  {
   "cell_type": "markdown",
   "id": "f2d1ed99",
   "metadata": {},
   "source": [
    "With all the features on the same scale, let’s try to select only the features we want using the Variance Threshold method. "
   ]
  },
  {
   "cell_type": "code",
   "execution_count": 5,
   "id": "542e9340",
   "metadata": {},
   "outputs": [],
   "source": [
    "from sklearn.feature_selection import VarianceThreshold\n",
    "selector = VarianceThreshold(1)"
   ]
  },
  {
   "cell_type": "code",
   "execution_count": 6,
   "id": "d80d930d",
   "metadata": {},
   "outputs": [
    {
     "data": {
      "text/plain": [
       "Index(['weight'], dtype='object')"
      ]
     },
     "execution_count": 6,
     "metadata": {},
     "output_type": "execute_result"
    }
   ],
   "source": [
    "selector.fit(mpg)\n",
    "mpg.columns[selector.get_support()]"
   ]
  },
  {
   "cell_type": "markdown",
   "id": "e80c3b4d",
   "metadata": {},
   "source": [
    "Only the weight feature are selected based on our Variance Threshold we set."
   ]
  },
  {
   "cell_type": "markdown",
   "id": "95522f1b",
   "metadata": {},
   "source": [
    "### Univariate Feature Selection with SelectKBest<a class=\"anchor\" id=\"univariate_feature\"></a>\n",
    "\n",
    "\n",
    "\n",
    "Univariate Feature Selection is a feature selection method based on the univariate statistical test, e,g: chi2, Pearson-correlation, and many more.\n",
    "\n",
    "Intended for __Supervised Learning__.\n",
    "\n",
    "__The premise with SelectKBest is combining the univariate statistical test with selecting the K-number of features based on the statistical result between the X and y.__"
   ]
  },
  {
   "cell_type": "code",
   "execution_count": 7,
   "id": "761dfb1d",
   "metadata": {},
   "outputs": [],
   "source": [
    "mpg = sns.load_dataset('mpg')\n",
    "mpg = mpg.select_dtypes('number').dropna()"
   ]
  },
  {
   "cell_type": "code",
   "execution_count": 8,
   "id": "5358ed08",
   "metadata": {},
   "outputs": [],
   "source": [
    "# Divide the features into Independent and Dependent Variable\n",
    "X = mpg.drop('mpg' , axis =1)\n",
    "y = mpg['mpg']"
   ]
  },
  {
   "cell_type": "markdown",
   "id": "33ad6588",
   "metadata": {},
   "source": [
    "Select the features using SelectKBest based on the __mutual info regression__:"
   ]
  },
  {
   "cell_type": "code",
   "execution_count": 9,
   "id": "5eb98e5c",
   "metadata": {},
   "outputs": [
    {
     "data": {
      "text/plain": [
       "Index(['displacement', 'weight'], dtype='object')"
      ]
     },
     "execution_count": 9,
     "metadata": {},
     "output_type": "execute_result"
    }
   ],
   "source": [
    "from sklearn.feature_selection import SelectKBest, mutual_info_regression\n",
    "\n",
    "#Select top 2 features based on mutual info regression\n",
    "selector = SelectKBest(mutual_info_regression, k = 2)\n",
    "selector.fit(X, y)\n",
    "X.columns[selector.get_support()]"
   ]
  },
  {
   "cell_type": "markdown",
   "id": "1f0e752c",
   "metadata": {},
   "source": [
    "### Recursive Feature Elimination (RFE)<a class=\"anchor\" id=\"RFE\"></a>\n",
    "\n",
    "Backward selection.\n",
    "\n",
    "RFE: utilizing a machine learning model to selecting the features by eliminating the least important feature after recursively training.\n",
    "\n",
    "__tl;dr__ RFE selects top k features based on the machine learning model that has `coef_attribute` or `feature_importances_` attribute from their model (Almost any model). RFE would eliminate the least important features then retrain the model until it only selects the K-features you want."
   ]
  },
  {
   "cell_type": "code",
   "execution_count": 10,
   "id": "8aeadf50",
   "metadata": {},
   "outputs": [],
   "source": [
    "# Load the dataset and only selecting the numerical features for example purposes\n",
    "titanic = sns.load_dataset('titanic')[['survived', 'pclass', 'age', 'parch', 'sibsp', 'fare']].dropna()\n",
    "X = titanic.drop('survived', axis = 1)\n",
    "y = titanic['survived']"
   ]
  },
  {
   "cell_type": "code",
   "execution_count": 11,
   "id": "88ac5a75",
   "metadata": {},
   "outputs": [
    {
     "data": {
      "text/plain": [
       "Index(['pclass', 'parch'], dtype='object')"
      ]
     },
     "execution_count": 11,
     "metadata": {},
     "output_type": "execute_result"
    }
   ],
   "source": [
    "from sklearn.feature_selection import RFE\n",
    "from sklearn.linear_model import LogisticRegression\n",
    "\n",
    "# Selecting the Best important features according to Logistic Regression\n",
    "rfe_selector = RFE(estimator = LogisticRegression(), n_features_to_select = 2, step = 1)\n",
    "rfe_selector.fit(X, y)\n",
    "X.columns[rfe_selector.get_support()]"
   ]
  },
  {
   "cell_type": "markdown",
   "id": "6bd088d9",
   "metadata": {},
   "source": [
    "### Feature Selection via SelectFromModel<a class=\"anchor\" id=\"select_from_model\"></a>\n",
    "Similar to RFE. Backward selection.\n",
    "\n",
    "The differences are that SelectFromModel feature selection is based on the __importance attribute__ (often is `coef_` or `feature_importances_` but it could be any callable) __threshold__. \n",
    "\n",
    "By default, the threshold is __the mean__."
   ]
  },
  {
   "cell_type": "code",
   "execution_count": 25,
   "id": "d291ede6",
   "metadata": {},
   "outputs": [
    {
     "data": {
      "text/plain": [
       "Index(['pclass'], dtype='object')"
      ]
     },
     "execution_count": 25,
     "metadata": {},
     "output_type": "execute_result"
    }
   ],
   "source": [
    "from sklearn.feature_selection import SelectFromModel\n",
    "\n",
    "# Selecting the Best important features according to Logistic Regression using SelectFromModel\n",
    "sfm_selector = SelectFromModel(estimator = LogisticRegression())\n",
    "sfm_selector.fit(X, y)\n",
    "X.columns[sfm_selector.get_support()]"
   ]
  },
  {
   "cell_type": "markdown",
   "id": "786ffc98",
   "metadata": {},
   "source": [
    "Using SelectFromModel, we found out that only one feature passed the threshold: the ‘pclass’ feature."
   ]
  },
  {
   "cell_type": "markdown",
   "id": "17ffdd29",
   "metadata": {},
   "source": [
    "### Feature Selection Sequential Feature Selection (SFS)<a class=\"anchor\" id=\"SFS\"></a>\n",
    "Forward selection.\n",
    "\n",
    "SFS: a __greedy__ algorithm to find the best features by either going forward or backward based on the __cross-validation score__ an estimator.\n",
    "\n",
    "SFS-Forward made a feature selection by starting with zero feature and find the one feature that maximizes a cross-validated score when a machine learning model is trained on this single feature. Once that first feature is selected, the procedure is repeated by adding a new feature to selected features. The procedure is stopped when we find the desired number of features is reached.\n",
    "\n",
    "SFS-Backward follows the same idea but works in the opposite direction: It starts with all the features and greedily removes all the features until it reached the desired number of features."
   ]
  },
  {
   "cell_type": "code",
   "execution_count": 40,
   "id": "a712ec13",
   "metadata": {},
   "outputs": [],
   "source": [
    "from sklearn.feature_selection import SequentialFeatureSelector\n",
    "\n",
    "# Selecting the Best important features according to Logistic Regression\n",
    "sfs_selector = SequentialFeatureSelector(estimator = LogisticRegression(), n_features_to_select = 3, cv = 10, direction = 'backward')\n",
    "sfs_selector.fit(X, y)\n",
    "X.columns[sfs_selector.get_support()]"
   ]
  },
  {
   "cell_type": "code",
   "execution_count": null,
   "id": "664dbe07",
   "metadata": {},
   "outputs": [],
   "source": []
  }
 ],
 "metadata": {
  "kernelspec": {
   "display_name": "jupyter_env",
   "language": "python",
   "name": "jupyter_env"
  },
  "language_info": {
   "codemirror_mode": {
    "name": "ipython",
    "version": 3
   },
   "file_extension": ".py",
   "mimetype": "text/x-python",
   "name": "python",
   "nbconvert_exporter": "python",
   "pygments_lexer": "ipython3",
   "version": "3.8.8"
  }
 },
 "nbformat": 4,
 "nbformat_minor": 5
}
