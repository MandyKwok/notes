{
 "cells": [
  {
   "cell_type": "markdown",
   "id": "b942a9b7",
   "metadata": {},
   "source": [
    "# Vanishing Gradients\n",
    "Reference: \n",
    "[How to Fix the Vanishing Gradients Problem Using the ReLU](https://machinelearningmastery.com/how-to-fix-vanishing-gradients-using-the-rectified-linear-activation-function/)"
   ]
  },
  {
   "cell_type": "markdown",
   "id": "7d18ff71",
   "metadata": {},
   "source": [
    "__requirements:__\n",
    "* original: Keras 2.3 and TensorFlow 2.0 (can not be installed)<br>\n",
    "* alterantive: https://github.com/keras-team/keras/issues/14632"
   ]
  },
  {
   "cell_type": "code",
   "execution_count": 15,
   "id": "d0e4cab0",
   "metadata": {
    "collapsed": true
   },
   "outputs": [
    {
     "name": "stdout",
     "output_type": "stream",
     "text": [
      "Collecting tensorflow-cpu==2.4.0\n",
      "  Downloading tensorflow_cpu-2.4.0-cp38-cp38-macosx_10_11_x86_64.whl (175.5 MB)\n",
      "\u001b[K     |████████████████████████████████| 175.5 MB 7.7 MB/s eta 0:00:011    |██████▋                         | 36.3 MB 14.9 MB/s eta 0:00:10\n",
      "\u001b[?25hCollecting keras==2.4.0\n",
      "  Downloading Keras-2.4.0-py2.py3-none-any.whl (170 kB)\n",
      "\u001b[K     |████████████████████████████████| 170 kB 11.6 MB/s eta 0:00:01\n",
      "\u001b[?25hRequirement already satisfied: scipy>=0.14 in /Users/B214NN/opt/anaconda3/lib/python3.8/site-packages (from keras==2.4.0) (1.5.2)\n",
      "Requirement already satisfied: pyyaml in /Users/B214NN/opt/anaconda3/lib/python3.8/site-packages (from keras==2.4.0) (5.4.1)\n",
      "Requirement already satisfied: h5py in /Users/B214NN/opt/anaconda3/lib/python3.8/site-packages (from keras==2.4.0) (3.1.0)\n",
      "Requirement already satisfied: numpy>=1.9.1 in /Users/B214NN/opt/anaconda3/lib/python3.8/site-packages (from keras==2.4.0) (1.19.5)\n",
      "Requirement already satisfied: tensorflow>=2.2.0 in /Users/B214NN/opt/anaconda3/lib/python3.8/site-packages (from keras==2.4.0) (2.5.0)\n",
      "Requirement already satisfied: opt-einsum~=3.3.0 in /Users/B214NN/opt/anaconda3/lib/python3.8/site-packages (from tensorflow-cpu==2.4.0) (3.3.0)\n",
      "Requirement already satisfied: protobuf>=3.9.2 in /Users/B214NN/opt/anaconda3/lib/python3.8/site-packages (from tensorflow-cpu==2.4.0) (3.17.3)\n",
      "Requirement already satisfied: six~=1.15.0 in /Users/B214NN/opt/anaconda3/lib/python3.8/site-packages (from tensorflow-cpu==2.4.0) (1.15.0)\n",
      "Requirement already satisfied: keras-preprocessing~=1.1.2 in /Users/B214NN/opt/anaconda3/lib/python3.8/site-packages (from tensorflow-cpu==2.4.0) (1.1.2)\n",
      "Collecting tensorflow-estimator<2.5.0,>=2.4.0rc0\n",
      "  Downloading tensorflow_estimator-2.4.0-py2.py3-none-any.whl (462 kB)\n",
      "\u001b[K     |████████████████████████████████| 462 kB 7.5 MB/s eta 0:00:01\n",
      "\u001b[?25hCollecting gast==0.3.3\n",
      "  Downloading gast-0.3.3-py2.py3-none-any.whl (9.7 kB)\n",
      "Requirement already satisfied: termcolor~=1.1.0 in /Users/B214NN/opt/anaconda3/lib/python3.8/site-packages (from tensorflow-cpu==2.4.0) (1.1.0)\n",
      "Requirement already satisfied: typing-extensions~=3.7.4 in /Users/B214NN/opt/anaconda3/lib/python3.8/site-packages (from tensorflow-cpu==2.4.0) (3.7.4.3)\n",
      "Requirement already satisfied: wrapt~=1.12.1 in /Users/B214NN/opt/anaconda3/lib/python3.8/site-packages (from tensorflow-cpu==2.4.0) (1.12.1)\n",
      "Requirement already satisfied: wheel~=0.35 in /Users/B214NN/opt/anaconda3/lib/python3.8/site-packages (from tensorflow-cpu==2.4.0) (0.36.2)\n",
      "Collecting h5py\n",
      "  Downloading h5py-2.10.0-cp38-cp38-macosx_10_9_x86_64.whl (3.0 MB)\n",
      "\u001b[K     |████████████████████████████████| 3.0 MB 16.6 MB/s eta 0:00:01\n",
      "\u001b[?25hCollecting grpcio~=1.32.0\n",
      "  Downloading grpcio-1.32.0-cp38-cp38-macosx_10_9_x86_64.whl (3.3 MB)\n",
      "\u001b[K     |████████████████████████████████| 3.3 MB 1.7 MB/s eta 0:00:01\n",
      "\u001b[?25hRequirement already satisfied: google-pasta~=0.2 in /Users/B214NN/opt/anaconda3/lib/python3.8/site-packages (from tensorflow-cpu==2.4.0) (0.2.0)\n",
      "Requirement already satisfied: astunparse~=1.6.3 in /Users/B214NN/opt/anaconda3/lib/python3.8/site-packages (from tensorflow-cpu==2.4.0) (1.6.3)\n",
      "Requirement already satisfied: absl-py~=0.10 in /Users/B214NN/opt/anaconda3/lib/python3.8/site-packages (from tensorflow-cpu==2.4.0) (0.13.0)\n",
      "Requirement already satisfied: tensorboard~=2.4 in /Users/B214NN/opt/anaconda3/lib/python3.8/site-packages (from tensorflow-cpu==2.4.0) (2.5.0)\n",
      "Requirement already satisfied: flatbuffers~=1.12.0 in /Users/B214NN/opt/anaconda3/lib/python3.8/site-packages (from tensorflow-cpu==2.4.0) (1.12)\n",
      "Requirement already satisfied: tensorboard-data-server<0.7.0,>=0.6.0 in /Users/B214NN/opt/anaconda3/lib/python3.8/site-packages (from tensorboard~=2.4->tensorflow-cpu==2.4.0) (0.6.1)\n",
      "Requirement already satisfied: requests<3,>=2.21.0 in /Users/B214NN/opt/anaconda3/lib/python3.8/site-packages (from tensorboard~=2.4->tensorflow-cpu==2.4.0) (2.24.0)\n",
      "Requirement already satisfied: tensorboard-plugin-wit>=1.6.0 in /Users/B214NN/opt/anaconda3/lib/python3.8/site-packages (from tensorboard~=2.4->tensorflow-cpu==2.4.0) (1.8.0)\n",
      "Requirement already satisfied: google-auth-oauthlib<0.5,>=0.4.1 in /Users/B214NN/opt/anaconda3/lib/python3.8/site-packages (from tensorboard~=2.4->tensorflow-cpu==2.4.0) (0.4.4)\n",
      "Requirement already satisfied: markdown>=2.6.8 in /Users/B214NN/opt/anaconda3/lib/python3.8/site-packages (from tensorboard~=2.4->tensorflow-cpu==2.4.0) (3.3.4)\n",
      "Requirement already satisfied: setuptools>=41.0.0 in /Users/B214NN/opt/anaconda3/lib/python3.8/site-packages (from tensorboard~=2.4->tensorflow-cpu==2.4.0) (52.0.0.post20210125)\n",
      "Requirement already satisfied: werkzeug>=0.11.15 in /Users/B214NN/opt/anaconda3/lib/python3.8/site-packages (from tensorboard~=2.4->tensorflow-cpu==2.4.0) (1.0.1)\n",
      "Requirement already satisfied: google-auth<2,>=1.6.3 in /Users/B214NN/opt/anaconda3/lib/python3.8/site-packages (from tensorboard~=2.4->tensorflow-cpu==2.4.0) (1.30.0)\n",
      "Requirement already satisfied: rsa<5,>=3.1.4 in /Users/B214NN/opt/anaconda3/lib/python3.8/site-packages (from google-auth<2,>=1.6.3->tensorboard~=2.4->tensorflow-cpu==2.4.0) (4.7.2)\n",
      "Requirement already satisfied: cachetools<5.0,>=2.0.0 in /Users/B214NN/opt/anaconda3/lib/python3.8/site-packages (from google-auth<2,>=1.6.3->tensorboard~=2.4->tensorflow-cpu==2.4.0) (4.2.2)\n",
      "Requirement already satisfied: pyasn1-modules>=0.2.1 in /Users/B214NN/opt/anaconda3/lib/python3.8/site-packages (from google-auth<2,>=1.6.3->tensorboard~=2.4->tensorflow-cpu==2.4.0) (0.2.8)\n",
      "Requirement already satisfied: requests-oauthlib>=0.7.0 in /Users/B214NN/opt/anaconda3/lib/python3.8/site-packages (from google-auth-oauthlib<0.5,>=0.4.1->tensorboard~=2.4->tensorflow-cpu==2.4.0) (1.3.0)\n",
      "Requirement already satisfied: pyasn1<0.5.0,>=0.4.6 in /Users/B214NN/opt/anaconda3/lib/python3.8/site-packages (from pyasn1-modules>=0.2.1->google-auth<2,>=1.6.3->tensorboard~=2.4->tensorflow-cpu==2.4.0) (0.4.8)\n",
      "Requirement already satisfied: idna<3,>=2.5 in /Users/B214NN/opt/anaconda3/lib/python3.8/site-packages (from requests<3,>=2.21.0->tensorboard~=2.4->tensorflow-cpu==2.4.0) (2.10)\n",
      "Requirement already satisfied: chardet<4,>=3.0.2 in /Users/B214NN/opt/anaconda3/lib/python3.8/site-packages (from requests<3,>=2.21.0->tensorboard~=2.4->tensorflow-cpu==2.4.0) (3.0.4)\n",
      "Requirement already satisfied: certifi>=2017.4.17 in /Users/B214NN/opt/anaconda3/lib/python3.8/site-packages (from requests<3,>=2.21.0->tensorboard~=2.4->tensorflow-cpu==2.4.0) (2020.6.20)\n",
      "Requirement already satisfied: urllib3!=1.25.0,!=1.25.1,<1.26,>=1.21.1 in /Users/B214NN/opt/anaconda3/lib/python3.8/site-packages (from requests<3,>=2.21.0->tensorboard~=2.4->tensorflow-cpu==2.4.0) (1.25.11)\n",
      "Requirement already satisfied: oauthlib>=3.0.0 in /Users/B214NN/opt/anaconda3/lib/python3.8/site-packages (from requests-oauthlib>=0.7.0->google-auth-oauthlib<0.5,>=0.4.1->tensorboard~=2.4->tensorflow-cpu==2.4.0) (3.1.0)\n",
      "Collecting tensorflow>=2.2.0\n",
      "  Downloading tensorflow-2.4.2-cp38-cp38-macosx_10_11_x86_64.whl (174.2 MB)\n",
      "\u001b[K     |████████████████████████████████| 174.2 MB 8.4 MB/s eta 0:00:011\n",
      "\u001b[?25hInstalling collected packages: grpcio, tensorflow-estimator, h5py, gast, tensorflow, tensorflow-cpu, keras\n",
      "  Attempting uninstall: grpcio\n",
      "    Found existing installation: grpcio 1.34.1\n",
      "    Uninstalling grpcio-1.34.1:\n",
      "      Successfully uninstalled grpcio-1.34.1\n",
      "  Attempting uninstall: tensorflow-estimator\n",
      "    Found existing installation: tensorflow-estimator 2.5.0\n",
      "    Uninstalling tensorflow-estimator-2.5.0:\n",
      "      Successfully uninstalled tensorflow-estimator-2.5.0\n",
      "  Attempting uninstall: h5py\n",
      "    Found existing installation: h5py 3.1.0\n",
      "    Uninstalling h5py-3.1.0:\n",
      "      Successfully uninstalled h5py-3.1.0\n",
      "  Attempting uninstall: gast\n",
      "    Found existing installation: gast 0.4.0\n",
      "    Uninstalling gast-0.4.0:\n",
      "      Successfully uninstalled gast-0.4.0\n",
      "  Attempting uninstall: tensorflow\n",
      "    Found existing installation: tensorflow 2.5.0\n",
      "    Uninstalling tensorflow-2.5.0:\n",
      "      Successfully uninstalled tensorflow-2.5.0\n",
      "  Attempting uninstall: keras\n",
      "    Found existing installation: Keras 2.3.0\n",
      "    Uninstalling Keras-2.3.0:\n",
      "      Successfully uninstalled Keras-2.3.0\n",
      "Successfully installed gast-0.3.3 grpcio-1.32.0 h5py-2.10.0 keras-2.4.0 tensorflow-2.4.2 tensorflow-cpu-2.4.0 tensorflow-estimator-2.4.0\n"
     ]
    },
    {
     "name": "stdout",
     "output_type": "stream",
     "text": [
      "Note: you may need to restart the kernel to use updated packages.\n"
     ]
    }
   ],
   "source": [
    "pip install tensorflow-cpu==2.4.0 keras==2.4.0"
   ]
  },
  {
   "cell_type": "code",
   "execution_count": 23,
   "id": "1beb3828",
   "metadata": {},
   "outputs": [],
   "source": [
    "import tensorflow as tf\n",
    "from tensorflow import keras"
   ]
  },
  {
   "cell_type": "markdown",
   "id": "eb8e3529",
   "metadata": {},
   "source": [
    "## Two Circles Binary Classification Problem"
   ]
  },
  {
   "cell_type": "code",
   "execution_count": 4,
   "id": "f22a1b97",
   "metadata": {},
   "outputs": [],
   "source": [
    "from sklearn.datasets import make_circles\n",
    "import numpy as np\n",
    "import matplotlib.pyplot as plt"
   ]
  },
  {
   "cell_type": "code",
   "execution_count": 5,
   "id": "a6904f3e",
   "metadata": {
    "collapsed": true
   },
   "outputs": [
    {
     "data": {
      "image/png": "[encoded data removed]",
      "text/plain": [
       "<Figure size 432x288 with 1 Axes>"
      ]
     },
     "metadata": {
      "needs_background": "light"
     },
     "output_type": "display_data"
    }
   ],
   "source": [
    "# generate circles\n",
    "X, y = make_circles(n_samples = 1000, noise = 0.1, random_state = 1)\n",
    "\n",
    "# select indices of points with each class label\n",
    "# scatter plot of the circles dataset with points colored by class\n",
    "for i in range(2):\n",
    "    samples_ix = np.where(y == i)\n",
    "    plt.scatter(X[samples_ix, 0], X[samples_ix, 1], label = str(i))\n",
    "    \n",
    "plt.legend()\n",
    "plt.show()"
   ]
  },
  {
   "cell_type": "markdown",
   "id": "49ecd6b9",
   "metadata": {},
   "source": [
    "The __statistical noise__ of the generated samples means that there is some overlap of points between the two circles, adding some ambiguity to the problem, making it non-trivial. \n",
    "\n",
    "This is desirable as a neural network may choose one of among many possible solutions to classify the points between the two circles and always make some errors."
   ]
  },
  {
   "cell_type": "markdown",
   "id": "b2c3057a",
   "metadata": {},
   "source": [
    "## Multilayer Perceptron Model for Two Circles Problem"
   ]
  },
  {
   "cell_type": "markdown",
   "id": "2f3a1b0f",
   "metadata": {},
   "source": [
    "The model will have an input layer with two inputs, for the two variables in the dataset, one hidden layer with five nodes, and an output layer with one node used to predict the class probability. \n",
    "\n",
    "The hidden layer will use the hyperbolic tangent activation function (tanh) and the output layer will use the logistic activation function (sigmoid) to predict class 0 or class 1 or something in between.\n",
    "\n",
    "Using the hyperbolic tangent activation function in hidden layers was the best practice in the 1990s and 2000s, performing generally better than the logistic function when used in the hidden layer. It was also good practice to initialize the network weights to small random values from a uniform distribution. Here, we will initialize weights randomly from the range [0.0, 1.0]."
   ]
  },
  {
   "cell_type": "code",
   "execution_count": 16,
   "id": "09b7d2b8",
   "metadata": {},
   "outputs": [],
   "source": [
    "from sklearn.datasets import make_circles\n",
    "from sklearn.preprocessing import MinMaxScaler"
   ]
  },
  {
   "cell_type": "code",
   "execution_count": 19,
   "id": "327a617b",
   "metadata": {},
   "outputs": [],
   "source": [
    "from tensorflow.keras.layers import Dense\n",
    "from tensorflow.keras.models import Sequential\n",
    "from tensorflow.keras.optimizers import SGD\n",
    "from tensorflow.keras.initializers import RandomUniform"
   ]
  },
  {
   "cell_type": "code",
   "execution_count": 20,
   "id": "837bd3dc",
   "metadata": {},
   "outputs": [],
   "source": [
    "import matplotlib.pyplot as plt"
   ]
  },
  {
   "cell_type": "code",
   "execution_count": 24,
   "id": "e03aedee",
   "metadata": {},
   "outputs": [
    {
     "name": "stdout",
     "output_type": "stream",
     "text": [
      "WARNING:tensorflow:AutoGraph could not transform <function Model.make_train_function.<locals>.train_function at 0x7fabc6671940> and will run it as-is.\n",
      "Please report this to the TensorFlow team. When filing the bug, set the verbosity to 10 (on Linux, `export AUTOGRAPH_VERBOSITY=10`) and attach the full output.\n",
      "Cause: closure mismatch, requested ('self', 'step_function'), but source function had ()\n",
      "To silence this warning, decorate the function with @tf.autograph.experimental.do_not_convert\n",
      "WARNING: AutoGraph could not transform <function Model.make_train_function.<locals>.train_function at 0x7fabc6671940> and will run it as-is.\n",
      "Please report this to the TensorFlow team. When filing the bug, set the verbosity to 10 (on Linux, `export AUTOGRAPH_VERBOSITY=10`) and attach the full output.\n",
      "Cause: closure mismatch, requested ('self', 'step_function'), but source function had ()\n",
      "To silence this warning, decorate the function with @tf.autograph.experimental.do_not_convert\n",
      "WARNING:tensorflow:AutoGraph could not transform <function Model.make_test_function.<locals>.test_function at 0x7fabc6667d30> and will run it as-is.\n",
      "Please report this to the TensorFlow team. When filing the bug, set the verbosity to 10 (on Linux, `export AUTOGRAPH_VERBOSITY=10`) and attach the full output.\n",
      "Cause: closure mismatch, requested ('self', 'step_function'), but source function had ()\n",
      "To silence this warning, decorate the function with @tf.autograph.experimental.do_not_convert\n",
      "WARNING: AutoGraph could not transform <function Model.make_test_function.<locals>.test_function at 0x7fabc6667d30> and will run it as-is.\n",
      "Please report this to the TensorFlow team. When filing the bug, set the verbosity to 10 (on Linux, `export AUTOGRAPH_VERBOSITY=10`) and attach the full output.\n",
      "Cause: closure mismatch, requested ('self', 'step_function'), but source function had ()\n",
      "To silence this warning, decorate the function with @tf.autograph.experimental.do_not_convert\n",
      "Train: 0.824, Test: 0.842\n"
     ]
    },
    {
     "data": {
      "image/png": "[encoded data removed]",
      "text/plain": [
       "<Figure size 432x288 with 1 Axes>"
      ]
     },
     "metadata": {
      "needs_background": "light"
     },
     "output_type": "display_data"
    }
   ],
   "source": [
    "# generate 2d classification dataset\n",
    "X, y = make_circles(n_samples = 1000, noise = 0.1, random_state = 1)\n",
    "\n",
    "# scale input data to [-1,1]\n",
    "scaler = MinMaxScaler(feature_range = (-1, 1))\n",
    "X = scaler.fit_transform(X)\n",
    "\n",
    "# split into train and test\n",
    "n_train = 500\n",
    "trainX, testX = X[:n_train, :], X[n_train:, :]\n",
    "trainy, testy = y[:n_train], y[n_train:]\n",
    "\n",
    "# define model\n",
    "model = Sequential()\n",
    "init = RandomUniform(minval = 0, maxval = 1)\n",
    "model.add(Dense(5, input_dim = 2, activation = 'tanh', kernel_initializer = init))\n",
    "model.add(Dense(1, activation = 'sigmoid', kernel_initializer = init))\n",
    "\n",
    "# compile model\n",
    "opt = SGD(learning_rate = 0.01, momentum = 0.9)\n",
    "model.compile(loss = 'binary_crossentropy', optimizer = opt, metrics = ['accuracy'])\n",
    "\n",
    "# fit model\n",
    "history = model.fit(trainX, trainy, validation_data = (testX, testy), epochs = 500, verbose = 0)\n",
    "\n",
    "# evaluate the model\n",
    "_, train_acc = model.evaluate(trainX, trainy, verbose = 0)\n",
    "_, test_acc = model.evaluate(testX, testy, verbose = 0)\n",
    "print('Train: %.3f, Test: %.3f' % (train_acc, test_acc))\n",
    "\n",
    "# plot training history\n",
    "plt.plot(history.history['accuracy'], label = 'train')\n",
    "plt.plot(history.history['val_accuracy'], label = 'test')\n",
    "plt.legend()\n",
    "plt.show()"
   ]
  },
  {
   "cell_type": "markdown",
   "id": "370d16bc",
   "metadata": {},
   "source": [
    "The plot suggests, for this run, that the performance begins to slow around epoch 300 at about 80% accuracy for both the train and test sets."
   ]
  },
  {
   "cell_type": "markdown",
   "id": "7828ebf3",
   "metadata": {},
   "source": [
    "__Note__: Your results may vary given the stochastic nature of the algorithm or evaluation procedure, or differences in numerical precision. Consider running the example a few times and compare the average outcome."
   ]
  },
  {
   "cell_type": "markdown",
   "id": "0e6f4f61",
   "metadata": {},
   "source": [
    "## Deeper MLP Model for Two Circles Problem"
   ]
  },
  {
   "cell_type": "markdown",
   "id": "834b824f",
   "metadata": {},
   "source": [
    "Traditionally, developing deep Multilayer Perceptron models was challenging.\n",
    "\n",
    "Deep models using the hyperbolic tangent activation function do not train easily, and much of this poor performance is blamed on the vanishing gradient problem."
   ]
  },
  {
   "cell_type": "code",
   "execution_count": 34,
   "id": "33cc8dee",
   "metadata": {},
   "outputs": [
    {
     "name": "stdout",
     "output_type": "stream",
     "text": [
      "WARNING:tensorflow:AutoGraph could not transform <function Model.make_train_function.<locals>.train_function at 0x7fabc5bef940> and will run it as-is.\n",
      "Please report this to the TensorFlow team. When filing the bug, set the verbosity to 10 (on Linux, `export AUTOGRAPH_VERBOSITY=10`) and attach the full output.\n",
      "Cause: closure mismatch, requested ('self', 'step_function'), but source function had ()\n",
      "To silence this warning, decorate the function with @tf.autograph.experimental.do_not_convert\n",
      "WARNING: AutoGraph could not transform <function Model.make_train_function.<locals>.train_function at 0x7fabc5bef940> and will run it as-is.\n",
      "Please report this to the TensorFlow team. When filing the bug, set the verbosity to 10 (on Linux, `export AUTOGRAPH_VERBOSITY=10`) and attach the full output.\n",
      "Cause: closure mismatch, requested ('self', 'step_function'), but source function had ()\n",
      "To silence this warning, decorate the function with @tf.autograph.experimental.do_not_convert\n",
      "WARNING:tensorflow:AutoGraph could not transform <function Model.make_test_function.<locals>.test_function at 0x7fabc61588b0> and will run it as-is.\n",
      "Please report this to the TensorFlow team. When filing the bug, set the verbosity to 10 (on Linux, `export AUTOGRAPH_VERBOSITY=10`) and attach the full output.\n",
      "Cause: closure mismatch, requested ('self', 'step_function'), but source function had ()\n",
      "To silence this warning, decorate the function with @tf.autograph.experimental.do_not_convert\n",
      "WARNING: AutoGraph could not transform <function Model.make_test_function.<locals>.test_function at 0x7fabc61588b0> and will run it as-is.\n",
      "Please report this to the TensorFlow team. When filing the bug, set the verbosity to 10 (on Linux, `export AUTOGRAPH_VERBOSITY=10`) and attach the full output.\n",
      "Cause: closure mismatch, requested ('self', 'step_function'), but source function had ()\n",
      "To silence this warning, decorate the function with @tf.autograph.experimental.do_not_convert\n",
      "Train: 0.558, Test: 0.524\n"
     ]
    },
    {
     "data": {
      "image/png": "[encoded data removed]",
      "text/plain": [
       "<Figure size 432x288 with 1 Axes>"
      ]
     },
     "metadata": {
      "needs_background": "light"
     },
     "output_type": "display_data"
    }
   ],
   "source": [
    "# define model\n",
    "init = RandomUniform(minval = 0, maxval = 1)\n",
    "model = Sequential()\n",
    "model.add(Dense(5, input_dim = 2, activation = 'tanh', kernel_initializer = init))\n",
    "model.add(Dense(5, activation = 'tanh', kernel_initializer = init))\n",
    "model.add(Dense(5, activation = 'tanh', kernel_initializer = init))\n",
    "model.add(Dense(5, activation = 'tanh', kernel_initializer = init))\n",
    "model.add(Dense(5, activation = 'tanh', kernel_initializer = init))\n",
    "model.add(Dense(1, activation = 'sigmoid', kernel_initializer = init))\n",
    "\n",
    "# compile model\n",
    "opt = SGD(learning_rate = 0.01, momentum = 0.9)\n",
    "model.compile(loss = 'binary_crossentropy', optimizer = opt, metrics = ['accuracy'])\n",
    "\n",
    "# fit model\n",
    "history = model.fit(trainX, trainy, validation_data = (testX, testy), epochs = 500, verbose = 0)\n",
    "\n",
    "# evaluate the model\n",
    "_, train_acc = model.evaluate(trainX, trainy, verbose = 0)\n",
    "_, test_acc = model.evaluate(testX, testy, verbose = 0)\n",
    "print('Train: %.3f, Test: %.3f' % (train_acc, test_acc))\n",
    "\n",
    "# plot training history\n",
    "plt.plot(history.history['accuracy'], label = 'train')\n",
    "plt.plot(history.history['val_accuracy'], label = 'test')\n",
    "plt.legend()\n",
    "plt.show()"
   ]
  },
  {
   "cell_type": "markdown",
   "id": "97f3bea9",
   "metadata": {},
   "source": [
    "In this case, we can see that performance is quite poor on both the train and test sets achieving around 50% accuracy. This suggests that the model as configured could not learn the problem nor generalize a solution.\n",
    "\n",
    "The line plots of model accuracy on the train and test sets during training tell a similar story. We can see that performance is bad and actually gets worse as training progresses."
   ]
  },
  {
   "cell_type": "markdown",
   "id": "cceaef78",
   "metadata": {},
   "source": [
    "## Deeper MLP Model with ReLU for Two Circles Problem"
   ]
  },
  {
   "cell_type": "markdown",
   "id": "105d1da6",
   "metadata": {},
   "source": [
    "The rectified linear activation function has supplanted the hyperbolic tangent activation function as the new preferred default when developing Multilayer Perceptron networks, as well as other network types like CNNs.\n",
    "\n",
    "This is because the activation function looks and acts like a linear function, making it easier to train and less likely to saturate, but is, in fact, a nonlinear function, forcing negative inputs to the value 0. It is claimed as one possible approach to addressing the vanishing gradients problem when training deeper models."
   ]
  },
  {
   "cell_type": "markdown",
   "id": "2e8094ec",
   "metadata": {},
   "source": [
    "When using the rectified linear activation function (or ReLU for short), it is good practice to use the __He weight initialization scheme__. We can define the MLP with five hidden layers using ReLU and He initialization, listed below."
   ]
  },
  {
   "cell_type": "code",
   "execution_count": 33,
   "id": "ae373989",
   "metadata": {},
   "outputs": [
    {
     "name": "stdout",
     "output_type": "stream",
     "text": [
      "WARNING:tensorflow:AutoGraph could not transform <function Model.make_train_function.<locals>.train_function at 0x7fabc5d541f0> and will run it as-is.\n",
      "Please report this to the TensorFlow team. When filing the bug, set the verbosity to 10 (on Linux, `export AUTOGRAPH_VERBOSITY=10`) and attach the full output.\n",
      "Cause: closure mismatch, requested ('self', 'step_function'), but source function had ()\n",
      "To silence this warning, decorate the function with @tf.autograph.experimental.do_not_convert\n",
      "WARNING: AutoGraph could not transform <function Model.make_train_function.<locals>.train_function at 0x7fabc5d541f0> and will run it as-is.\n",
      "Please report this to the TensorFlow team. When filing the bug, set the verbosity to 10 (on Linux, `export AUTOGRAPH_VERBOSITY=10`) and attach the full output.\n",
      "Cause: closure mismatch, requested ('self', 'step_function'), but source function had ()\n",
      "To silence this warning, decorate the function with @tf.autograph.experimental.do_not_convert\n",
      "WARNING:tensorflow:AutoGraph could not transform <function Model.make_test_function.<locals>.test_function at 0x7fabc4390670> and will run it as-is.\n",
      "Please report this to the TensorFlow team. When filing the bug, set the verbosity to 10 (on Linux, `export AUTOGRAPH_VERBOSITY=10`) and attach the full output.\n",
      "Cause: closure mismatch, requested ('self', 'step_function'), but source function had ()\n",
      "To silence this warning, decorate the function with @tf.autograph.experimental.do_not_convert\n",
      "WARNING: AutoGraph could not transform <function Model.make_test_function.<locals>.test_function at 0x7fabc4390670> and will run it as-is.\n",
      "Please report this to the TensorFlow team. When filing the bug, set the verbosity to 10 (on Linux, `export AUTOGRAPH_VERBOSITY=10`) and attach the full output.\n",
      "Cause: closure mismatch, requested ('self', 'step_function'), but source function had ()\n",
      "To silence this warning, decorate the function with @tf.autograph.experimental.do_not_convert\n",
      "Train: 0.810, Test: 0.806\n"
     ]
    },
    {
     "data": {
      "image/png": "[encoded data removed]",
      "text/plain": [
       "<Figure size 432x288 with 1 Axes>"
      ]
     },
     "metadata": {
      "needs_background": "light"
     },
     "output_type": "display_data"
    }
   ],
   "source": [
    "# define model\n",
    "model = Sequential()\n",
    "model.add(Dense(5, input_dim = 2, activation = 'relu', kernel_initializer = 'he_uniform'))\n",
    "model.add(Dense(5, activation = 'relu', kernel_initializer = 'he_uniform'))\n",
    "model.add(Dense(5, activation = 'relu', kernel_initializer = 'he_uniform'))\n",
    "model.add(Dense(5, activation = 'relu', kernel_initializer = 'he_uniform'))\n",
    "model.add(Dense(5, activation = 'relu', kernel_initializer = 'he_uniform'))\n",
    "model.add(Dense(1, activation = 'sigmoid'))\n",
    "\n",
    "# compile model\n",
    "opt = SGD(learning_rate = 0.01, momentum = 0.9)\n",
    "model.compile(loss = 'binary_crossentropy', optimizer = opt, metrics = ['accuracy'])\n",
    "\n",
    "# fit model\n",
    "history = model.fit(trainX, trainy, validation_data = (testX, testy), epochs = 500, verbose = 0)\n",
    "\n",
    "# evaluate the model\n",
    "_, train_acc = model.evaluate(trainX, trainy, verbose = 0)\n",
    "_, test_acc = model.evaluate(testX, testy, verbose = 0)\n",
    "print('Train: %.3f, Test: %.3f' % (train_acc, test_acc))\n",
    "\n",
    "# plot training history\n",
    "plt.plot(history.history['accuracy'], label = 'train')\n",
    "plt.plot(history.history['val_accuracy'], label = 'test')\n",
    "plt.legend()\n",
    "plt.show()"
   ]
  },
  {
   "cell_type": "markdown",
   "id": "2ed9f623",
   "metadata": {},
   "source": [
    "The model appears to rapidly learn the problem, converging on a solution in about 100 epochs.\n",
    "\n",
    "__Use of the ReLU activation function has allowed us to fit a much deeper model for this simple problem, but this capability does not extend infinitely.__ For example, increasing the number of layers results in slower learning to a point at about 20 layers where the model is no longer capable of learning the problem, at least with the chosen configuration.\n",
    "\n",
    "Although use of the ReLU worked, we cannot be confident that use of the tanh function failed because of vanishing gradients and ReLU succeed because it overcame this problem."
   ]
  },
  {
   "cell_type": "markdown",
   "id": "c3fce74e",
   "metadata": {},
   "source": [
    "## Review Average Gradient Size During Training\n",
    "This section assumes that you are using the __TensorFlow backend with Keras__.\n",
    "\n",
    "Keras provides the TensorBoard callback that can be used to log properties of the model during training such as the average gradient per layer. These statistics can then be reviewed using the TensorBoard interface that is provided with TensorFlow."
   ]
  },
  {
   "cell_type": "markdown",
   "id": "1a5a6d62",
   "metadata": {},
   "source": [
    "In the cases of using the tanh activation function, we know the network has more than enough capacity to learn the problem, but the increase in layers has prevented it from doing so.\n",
    "\n",
    "It is hard to diagnose a vanishing gradient as a cause for bad performance. One possible signal is to review the average size of the gradient per layer per training epoch.\n",
    "\n",
    "We would expect layers closer to the output to have a larger average gradient than those layers closer to the input."
   ]
  },
  {
   "cell_type": "code",
   "execution_count": 41,
   "id": "354a695a",
   "metadata": {},
   "outputs": [],
   "source": [
    "from tensorflow.keras.callbacks import TensorBoard"
   ]
  },
  {
   "cell_type": "markdown",
   "id": "190a1fbb",
   "metadata": {},
   "source": [
    "#### deep MLP model using tanh"
   ]
  },
  {
   "cell_type": "code",
   "execution_count": 47,
   "id": "e1f04594",
   "metadata": {},
   "outputs": [
    {
     "name": "stdout",
     "output_type": "stream",
     "text": [
      "WARNING:tensorflow:`write_grads` will be ignored in TensorFlow 2.0 for the `TensorBoard` Callback.\n",
      "WARNING:tensorflow:AutoGraph could not transform <function Model.make_train_function.<locals>.train_function at 0x7fabc37bcb80> and will run it as-is.\n",
      "Please report this to the TensorFlow team. When filing the bug, set the verbosity to 10 (on Linux, `export AUTOGRAPH_VERBOSITY=10`) and attach the full output.\n",
      "Cause: closure mismatch, requested ('self', 'step_function'), but source function had ()\n",
      "To silence this warning, decorate the function with @tf.autograph.experimental.do_not_convert\n",
      "WARNING: AutoGraph could not transform <function Model.make_train_function.<locals>.train_function at 0x7fabc37bcb80> and will run it as-is.\n",
      "Please report this to the TensorFlow team. When filing the bug, set the verbosity to 10 (on Linux, `export AUTOGRAPH_VERBOSITY=10`) and attach the full output.\n",
      "Cause: closure mismatch, requested ('self', 'step_function'), but source function had ()\n",
      "To silence this warning, decorate the function with @tf.autograph.experimental.do_not_convert\n",
      "WARNING:tensorflow:AutoGraph could not transform <function Model.make_test_function.<locals>.test_function at 0x7fabc6191670> and will run it as-is.\n",
      "Please report this to the TensorFlow team. When filing the bug, set the verbosity to 10 (on Linux, `export AUTOGRAPH_VERBOSITY=10`) and attach the full output.\n",
      "Cause: closure mismatch, requested ('self', 'step_function'), but source function had ()\n",
      "To silence this warning, decorate the function with @tf.autograph.experimental.do_not_convert\n",
      "WARNING: AutoGraph could not transform <function Model.make_test_function.<locals>.test_function at 0x7fabc6191670> and will run it as-is.\n",
      "Please report this to the TensorFlow team. When filing the bug, set the verbosity to 10 (on Linux, `export AUTOGRAPH_VERBOSITY=10`) and attach the full output.\n",
      "Cause: closure mismatch, requested ('self', 'step_function'), but source function had ()\n",
      "To silence this warning, decorate the function with @tf.autograph.experimental.do_not_convert\n"
     ]
    },
    {
     "data": {
      "text/plain": [
       "<tensorflow.python.keras.callbacks.History at 0x7fabc616ec10>"
      ]
     },
     "execution_count": 47,
     "metadata": {},
     "output_type": "execute_result"
    }
   ],
   "source": [
    "# define model\n",
    "init = RandomUniform(minval = 0, maxval = 1)\n",
    "model = Sequential()\n",
    "model.add(Dense(5, input_dim = 2, activation = 'tanh', kernel_initializer = init))\n",
    "model.add(Dense(5, activation = 'tanh', kernel_initializer=init))\n",
    "model.add(Dense(5, activation = 'tanh', kernel_initializer=init))\n",
    "model.add(Dense(5, activation = 'tanh', kernel_initializer=init))\n",
    "model.add(Dense(5, activation = 'tanh', kernel_initializer=init))\n",
    "model.add(Dense(1, activation = 'sigmoid', kernel_initializer=init))\n",
    "\n",
    "# compile model\n",
    "opt = SGD(learning_rate = 0.01, momentum = 0.9)\n",
    "model.compile(loss = 'binary_crossentropy', optimizer = opt, metrics = ['accuracy'])\n",
    "\n",
    "# prepare callback\n",
    "tb = TensorBoard(histogram_freq = 1, write_grads = True)\n",
    "\n",
    "# fit model\n",
    "model.fit(trainX, trainy, validation_data = (testX, testy), epochs = 500, verbose = 0, callbacks = [tb])"
   ]
  },
  {
   "cell_type": "markdown",
   "id": "3ab18f77",
   "metadata": {},
   "source": [
    "Running the example creates a new “logs/” subdirectory with a file containing the statistics recorded by the callback during training.\n",
    "\n",
    "We can review the statistics in the TensorBoard web interface. The interface can be started from the command line, requiring that you specify the full path to your logs directory."
   ]
  },
  {
   "cell_type": "code",
   "execution_count": 43,
   "id": "6a7cc8e1",
   "metadata": {},
   "outputs": [],
   "source": [
    "# load the TensorBoard notebook extension\n",
    "%load_ext tensorboard"
   ]
  },
  {
   "cell_type": "code",
   "execution_count": 51,
   "id": "9513fc07",
   "metadata": {},
   "outputs": [],
   "source": [
    "# clear any logs from previous runs\n",
    "# rm -rf ./logs/"
   ]
  },
  {
   "cell_type": "code",
   "execution_count": 48,
   "id": "cca32f15",
   "metadata": {},
   "outputs": [
    {
     "data": {
      "text/plain": [
       "Reusing TensorBoard on port 6007 (pid 69469), started 0:09:46 ago. (Use '!kill 69469' to kill it.)"
      ]
     },
     "metadata": {},
     "output_type": "display_data"
    },
    {
     "data": {
      "text/html": [
       "\n",
       "      <iframe id=\"tensorboard-frame-e3acfefb6cb44d46\" width=\"100%\" height=\"800\" frameborder=\"0\">\n",
       "      </iframe>\n",
       "      <script>\n",
       "        (function() {\n",
       "          const frame = document.getElementById(\"tensorboard-frame-e3acfefb6cb44d46\");\n",
       "          const url = new URL(\"/\", window.location);\n",
       "          const port = 6007;\n",
       "          if (port) {\n",
       "            url.port = port;\n",
       "          }\n",
       "          frame.src = url;\n",
       "        })();\n",
       "      </script>\n",
       "    "
      ],
      "text/plain": [
       "<IPython.core.display.HTML object>"
      ]
     },
     "metadata": {},
     "output_type": "display_data"
    }
   ],
   "source": [
    "%tensorboard --logdir logs"
   ]
  },
  {
   "cell_type": "markdown",
   "id": "41de4b5c",
   "metadata": {},
   "source": [
    "First, line plots are created for each of the 6 layers (5 hidden, 1 output). The names of the plots indicate the layer, where “dense_1” indicates the hidden layer after the input layer and “dense_6” represents the output layer.\n",
    "\n",
    "We can see that the output layer has a lot of activity over the entire run, with average gradients per epoch at around 0.05 to 0.1. We can also see some activity in the first hidden layer with a similar range. Therefore, gradients are getting through to the first hidden layer, but the last layer and last hidden layer is seeing most of the activity."
   ]
  },
  {
   "cell_type": "markdown",
   "id": "896ae348",
   "metadata": {},
   "source": [
    "#### deep MLP with the ReLU activation function"
   ]
  },
  {
   "cell_type": "code",
   "execution_count": 52,
   "id": "c04742e5",
   "metadata": {},
   "outputs": [
    {
     "name": "stdout",
     "output_type": "stream",
     "text": [
      "WARNING:tensorflow:`write_grads` will be ignored in TensorFlow 2.0 for the `TensorBoard` Callback.\n",
      "WARNING:tensorflow:AutoGraph could not transform <function Model.make_train_function.<locals>.train_function at 0x7fabc6018160> and will run it as-is.\n",
      "Please report this to the TensorFlow team. When filing the bug, set the verbosity to 10 (on Linux, `export AUTOGRAPH_VERBOSITY=10`) and attach the full output.\n",
      "Cause: closure mismatch, requested ('self', 'step_function'), but source function had ()\n",
      "To silence this warning, decorate the function with @tf.autograph.experimental.do_not_convert\n",
      "WARNING: AutoGraph could not transform <function Model.make_train_function.<locals>.train_function at 0x7fabc6018160> and will run it as-is.\n",
      "Please report this to the TensorFlow team. When filing the bug, set the verbosity to 10 (on Linux, `export AUTOGRAPH_VERBOSITY=10`) and attach the full output.\n",
      "Cause: closure mismatch, requested ('self', 'step_function'), but source function had ()\n",
      "To silence this warning, decorate the function with @tf.autograph.experimental.do_not_convert\n",
      "WARNING:tensorflow:AutoGraph could not transform <function Model.make_test_function.<locals>.test_function at 0x7fabc7d46280> and will run it as-is.\n",
      "Please report this to the TensorFlow team. When filing the bug, set the verbosity to 10 (on Linux, `export AUTOGRAPH_VERBOSITY=10`) and attach the full output.\n",
      "Cause: closure mismatch, requested ('self', 'step_function'), but source function had ()\n",
      "To silence this warning, decorate the function with @tf.autograph.experimental.do_not_convert\n",
      "WARNING: AutoGraph could not transform <function Model.make_test_function.<locals>.test_function at 0x7fabc7d46280> and will run it as-is.\n",
      "Please report this to the TensorFlow team. When filing the bug, set the verbosity to 10 (on Linux, `export AUTOGRAPH_VERBOSITY=10`) and attach the full output.\n",
      "Cause: closure mismatch, requested ('self', 'step_function'), but source function had ()\n",
      "To silence this warning, decorate the function with @tf.autograph.experimental.do_not_convert\n"
     ]
    },
    {
     "data": {
      "text/plain": [
       "<tensorflow.python.keras.callbacks.History at 0x7fabc4a574c0>"
      ]
     },
     "execution_count": 52,
     "metadata": {},
     "output_type": "execute_result"
    }
   ],
   "source": [
    "# define model\n",
    "model = Sequential()\n",
    "model.add(Dense(5, input_dim = 2, activation = 'relu', kernel_initializer = 'he_uniform'))\n",
    "model.add(Dense(5, activation = 'relu', kernel_initializer = 'he_uniform'))\n",
    "model.add(Dense(5, activation = 'relu', kernel_initializer = 'he_uniform'))\n",
    "model.add(Dense(5, activation = 'relu', kernel_initializer = 'he_uniform'))\n",
    "model.add(Dense(5, activation = 'relu', kernel_initializer = 'he_uniform'))\n",
    "model.add(Dense(1, activation = 'sigmoid'))\n",
    "\n",
    "# compile model\n",
    "opt = SGD(learning_rate = 0.01, momentum = 0.9)\n",
    "model.compile(loss = 'binary_crossentropy', optimizer = opt, metrics = ['accuracy'])\n",
    "\n",
    "# prepare callback\n",
    "tb = TensorBoard(histogram_freq = 1, write_grads = True)\n",
    "\n",
    "# fit model\n",
    "model.fit(trainX, trainy, validation_data = (testX, testy), epochs = 500, verbose = 0, callbacks = [tb])"
   ]
  },
  {
   "cell_type": "code",
   "execution_count": 53,
   "id": "d02beb9b",
   "metadata": {},
   "outputs": [
    {
     "data": {
      "text/plain": [
       "Reusing TensorBoard on port 6007 (pid 69469), started 0:15:40 ago. (Use '!kill 69469' to kill it.)"
      ]
     },
     "metadata": {},
     "output_type": "display_data"
    },
    {
     "data": {
      "text/html": [
       "\n",
       "      <iframe id=\"tensorboard-frame-ceb1e296b83c0f21\" width=\"100%\" height=\"800\" frameborder=\"0\">\n",
       "      </iframe>\n",
       "      <script>\n",
       "        (function() {\n",
       "          const frame = document.getElementById(\"tensorboard-frame-ceb1e296b83c0f21\");\n",
       "          const url = new URL(\"/\", window.location);\n",
       "          const port = 6007;\n",
       "          if (port) {\n",
       "            url.port = port;\n",
       "          }\n",
       "          frame.src = url;\n",
       "        })();\n",
       "      </script>\n",
       "    "
      ],
      "text/plain": [
       "<IPython.core.display.HTML object>"
      ]
     },
     "metadata": {},
     "output_type": "display_data"
    }
   ],
   "source": [
    "%tensorboard --logdir logs"
   ]
  },
  {
   "cell_type": "markdown",
   "id": "cdb382c6",
   "metadata": {},
   "source": [
    "The plots of the average gradient per layer per training epoch show a different story as compared to the gradients for the deep model with tanh.\n",
    "\n",
    "We can see that the first hidden layer sees more gradients, more consistently with larger spread, perhaps 0.2 to 0.4, as opposed to 0.05 and 0.1 seen with tanh. We can also see that the middle hidden layers see large gradients.\n",
    "\n",
    "__The ReLU activation function is allowing more gradient to flow backward through the model during training, and this may be the cause for improved performance.__"
   ]
  },
  {
   "cell_type": "markdown",
   "id": "efa2dd61",
   "metadata": {},
   "source": [
    "## Extensions"
   ]
  },
  {
   "cell_type": "markdown",
   "id": "e3ac5fce",
   "metadata": {},
   "source": [
    "* __Weight Initialization__. Update the deep MLP with tanh activation to use Xavier uniform weight initialization and report the results.\n",
    "* __Learning Algorithm__. Update the deep MLP with tanh activation to use an adaptive learning algorithm such as Adam and report the results.\n",
    "* __Weight Changes__. Update the tanh and relu examples to record and plot the L1 vector norm of model weights each epoch as a proxy for how much each layer is changed during training and compare results.\n",
    "* __Study Model Depth__. Create an experiment using the MLP with tanh activation and report the performance of models as the number of hidden layers is increased from 1 to 10.\n",
    "* __Increase Breadth__. Increase the number of nodes in the hidden layers of the MLP with tanh activation from 5 to 25 and report performance as the number of layers are increased from 1 to 10."
   ]
  },
  {
   "cell_type": "markdown",
   "id": "0f15c840",
   "metadata": {},
   "source": [
    "__Comments__:\n",
    "* Same results of deep neural when I used tanh and He initialization instead of RelU and He initialization."
   ]
  },
  {
   "cell_type": "code",
   "execution_count": null,
   "id": "83b91005",
   "metadata": {},
   "outputs": [],
   "source": []
  }
 ],
 "metadata": {
  "kernelspec": {
   "display_name": "jupyter_env",
   "language": "python",
   "name": "jupyter_env"
  },
  "language_info": {
   "codemirror_mode": {
    "name": "ipython",
    "version": 3
   },
   "file_extension": ".py",
   "mimetype": "text/x-python",
   "name": "python",
   "nbconvert_exporter": "python",
   "pygments_lexer": "ipython3",
   "version": "3.8.8"
  }
 },
 "nbformat": 4,
 "nbformat_minor": 5
}
