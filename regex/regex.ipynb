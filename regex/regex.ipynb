{
 "cells": [
  {
   "cell_type": "markdown",
   "id": "2675245d",
   "metadata": {},
   "source": [
    "__TO ADD:__\n",
    "* regex functions\n",
    "* fuzzy string matching examples & best practices\n",
    "* Levenshtein distance: calculation & examples"
   ]
  },
  {
   "cell_type": "code",
   "execution_count": 1,
   "id": "4daba973",
   "metadata": {},
   "outputs": [],
   "source": [
    "import re"
   ]
  },
  {
   "cell_type": "markdown",
   "id": "e152eeae",
   "metadata": {},
   "source": [
    "#### Python Regex Flags\n",
    "- Reference: https://pynative.com/python-regex-flags/\n",
    "- Named regex group `(?P<group_name>regexp)`"
   ]
  },
  {
   "cell_type": "code",
   "execution_count": 2,
   "id": "9132415b",
   "metadata": {},
   "outputs": [],
   "source": [
    "regex_flag_sample_dict = {\n",
    "    're.IGNORECASE' : {\n",
    "        'target_str' : 'KELLy is a Python developer at a PYnative. kelly loves ML and AI',\n",
    "        'pattern' : r'kelly',\n",
    "        'flag' : re.IGNORECASE,\n",
    "        'short_description' : 'case insensitive matching.',\n",
    "        'comparison_flag' : True\n",
    "    },\n",
    "    \n",
    "    're.DOTALL' : {\n",
    "        'target_str' : 'ML\\nand AI',\n",
    "        'pattern' : r'.+',\n",
    "        'flag' : re.DOTALL,\n",
    "        'short_description' : 'enables the DOT(.) metacharacter to match any possible character, \\\n",
    "including the new line character.',\n",
    "        'comparison_flag' : True\n",
    "    },\n",
    "    \n",
    "    're.VERBOSE' : {\n",
    "        'target_str' : 'Jessa is a Python developer, and her salary is 8000',\n",
    "        'pattern' : r\"\"\"(?P<five_letter>^\\w{2,}) # match 5-letter word at the start\n",
    "               .+\n",
    "               (?P<four_digit>\\d{4}$) # match 4-digit number at the end \"\"\",\n",
    "        'flag' : re.VERBOSE, # named regex group\n",
    "        'short_description' : 'allows us \\n\\\n",
    "# 1) Better spacing, indentation, and a clean format for more extended and intricate patterns. \\n\\\n",
    "# 2) Allows us to add comments right inside the pattern for later reference using the hash sign (#).',\n",
    "        'comparison_flag' : False\n",
    "    },\n",
    "    \n",
    "    're.MULTILINE' : {\n",
    "        'target_str' : 'Joy lucky number is 75\\nTom lucky number is 25',\n",
    "        'pattern' : r\"^\\w{3}(?:[\\D]*)\\d{2}$\",\n",
    "        'flag' : re.MULTILINE,\n",
    "        'short_description' : 'perform a match inside a multiline block of text - match for each line.',\n",
    "        'comparison_flag' : True\n",
    "    },\n",
    "    \n",
    "    're.ASCII' : {\n",
    "        'target_str' : '虎太郎 and Jessa are friends',\n",
    "        'pattern' : r'\\b\\w{3}\\b',\n",
    "        'flag' : re.ASCII,\n",
    "        'short_description' : 'perform ASCII-only matching instead of full Unicode matching.',\n",
    "        'comparison_flag' : True\n",
    "    }\n",
    "    \n",
    "}"
   ]
  },
  {
   "cell_type": "code",
   "execution_count": 3,
   "id": "d5fce148",
   "metadata": {},
   "outputs": [
    {
     "name": "stdout",
     "output_type": "stream",
     "text": [
      ">>>>> re.IGNORECASE: >>>>>\n",
      "Short description: case insensitive matching.\n",
      "\n",
      "Input string: KELLy is a Python developer at a PYnative. kelly loves ML and AI\n",
      "Regex pattern: kelly\n",
      "Without re.IGNORECASE:  ['kelly']\n",
      "With re.IGNORECASE:  ['KELLy', 'kelly']\n",
      "\n",
      ">>>>> re.DOTALL: >>>>>\n",
      "Short description: enables the DOT(.) metacharacter to match any possible character, including the new line character.\n",
      "\n",
      "Input string: ML\n",
      "and AI\n",
      "Regex pattern: .+\n",
      "Without re.DOTALL:  ['ML', 'and AI']\n",
      "With re.DOTALL:  ['ML\\nand AI']\n",
      "\n",
      ">>>>> re.VERBOSE: >>>>>\n",
      "Short description: allows us \n",
      "# 1) Better spacing, indentation, and a clean format for more extended and intricate patterns. \n",
      "# 2) Allows us to add comments right inside the pattern for later reference using the hash sign (#).\n",
      "\n",
      "Input string: Jessa is a Python developer, and her salary is 8000\n",
      "Regex pattern: (?P<five_letter>^\\w{2,}) # match 5-letter word at the start\n",
      "               .+\n",
      "               (?P<four_digit>\\d{4}$) # match 4-digit number at the end \n",
      "With re.VERBOSE:  [('Jessa', '8000')]\n",
      "\n",
      ">>>>> re.MULTILINE: >>>>>\n",
      "Short description: perform a match inside a multiline block of text - match for each line.\n",
      "\n",
      "Input string: Joy lucky number is 75\n",
      "Tom lucky number is 25\n",
      "Regex pattern: ^\\w{3}(?:[\\D]*)\\d{2}$\n",
      "Without re.MULTILINE:  []\n",
      "With re.MULTILINE:  ['Joy lucky number is 75', 'Tom lucky number is 25']\n",
      "\n",
      ">>>>> re.ASCII: >>>>>\n",
      "Short description: perform ASCII-only matching instead of full Unicode matching.\n",
      "\n",
      "Input string: 虎太郎 and Jessa are friends\n",
      "Regex pattern: \\b\\w{3}\\b\n",
      "Without re.ASCII:  ['虎太郎', 'and', 'are']\n",
      "With re.ASCII:  ['and', 'are']\n",
      "\n"
     ]
    }
   ],
   "source": [
    "# demonstrate regex flags by before vs. after comparison\n",
    "\n",
    "def regex_flag_demonstration(target_str, pattern, flag, short_description, comparison_flag):\n",
    "    print('>>>>> %s: >>>>>' % str(flag))\n",
    "    print('Short description: %s\\n' % short_description)\n",
    "    print('Input string: %s' % target_str)\n",
    "    print('Regex pattern: %s' % re.compile(pattern).pattern )\n",
    "   \n",
    "    if comparison_flag:\n",
    "        result_without = re.findall(pattern, target_str)\n",
    "        result_with = re.findall(pattern, target_str, flag)\n",
    "        print( \"Without %s: \" % str(flag), result_without)\n",
    "        print( \"With %s: \" % str(flag), result_with)\n",
    "    else:\n",
    "        result_with = re.findall(pattern, target_str, flag)\n",
    "        print( \"With %s: \" % str(flag), result_with)\n",
    "    print()\n",
    "\n",
    "for key, value in regex_flag_sample_dict.items():\n",
    "    regex_flag_demonstration(**value)"
   ]
  }
 ],
 "metadata": {
  "kernelspec": {
   "display_name": "jupyter_env",
   "language": "python",
   "name": "jupyter_env"
  },
  "language_info": {
   "codemirror_mode": {
    "name": "ipython",
    "version": 3
   },
   "file_extension": ".py",
   "mimetype": "text/x-python",
   "name": "python",
   "nbconvert_exporter": "python",
   "pygments_lexer": "ipython3",
   "version": "3.8.8"
  }
 },
 "nbformat": 4,
 "nbformat_minor": 5
}
