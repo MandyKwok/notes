{
 "cells": [
  {
   "cell_type": "markdown",
   "id": "7120a800",
   "metadata": {},
   "source": [
    "# Fuzzy String Match\n",
    "* [Repo: fuzzywuzzy](https://github.com/seatgeek/fuzzywuzzy)\n",
    "    * [extractOne() logic](https://github.com/seatgeek/fuzzywuzzy/blob/9e3d2fe0d8c1b195696d5fbcda78c371dd4a6b8f/fuzzywuzzy/fuzz.py#L224)\n",
    "* [Repo: python-Levenshtein](https://github.com/ztane/python-Levenshtein)\n",
    "    * [Core code in C](https://github.com/ztane/python-Levenshtein/blob/master/Levenshtein/_levenshtein.c)"
   ]
  },
  {
   "cell_type": "code",
   "execution_count": 97,
   "id": "42c5b0ee",
   "metadata": {},
   "outputs": [],
   "source": [
    "from fuzzywuzzy import fuzz, process, utils"
   ]
  },
  {
   "cell_type": "markdown",
   "id": "b920d8d0",
   "metadata": {},
   "source": [
    "__How unwanted fuzzy matches happen? - An example from real data__\n",
    "\n",
    "Problem: “intsig.com pdf producer” is fuzzy matched with the keyword 'PDF Pro$' with a score of 90 in extractOne().\n",
    "\n",
    "Root Cause: 1) score calculation logic behind extractOne(); 2) less flexibility compared to regex.\n",
    "\n",
    "Solution: exact match using regex"
   ]
  },
  {
   "cell_type": "code",
   "execution_count": 91,
   "id": "d582dcd9",
   "metadata": {},
   "outputs": [
    {
     "data": {
      "text/plain": [
       "('PDF Pro$', 90)"
      ]
     },
     "execution_count": 91,
     "metadata": {},
     "output_type": "execute_result"
    }
   ],
   "source": [
    "process.extractOne('intsig.com pdf producer', ['PDF Pro$'])"
   ]
  },
  {
   "cell_type": "code",
   "execution_count": 126,
   "id": "e02e536e",
   "metadata": {},
   "outputs": [
    {
     "name": "stdout",
     "output_type": "stream",
     "text": [
      "45\n",
      "88\n",
      "intsig com pdf producer\n",
      "pdf pro\n",
      "47\n",
      "100\n"
     ]
    }
   ],
   "source": [
    "print(fuzz.ratio('intsig.com pdf producer', 'pdf pro$')) # 45\n",
    "print(fuzz.partial_ratio('intsig.com pdf producer', 'pdf pro$')) # 88\n",
    "\n",
    "print(process.utils.full_process('intsig.com pdf producer')) # intsig com pdf producer\n",
    "print(process.utils.full_process('PDF Pro$')) # pdf pro\n",
    "\n",
    "print(fuzz.ratio('intsig com pdf producer', 'pdf pro')) # 47\n",
    "print(fuzz.partial_ratio('intsig com pdf producer', 'pdf pro')) # 100 * 0.9 = 90"
   ]
  },
  {
   "cell_type": "markdown",
   "id": "f04aea7d",
   "metadata": {},
   "source": [
    "__What’s the math behind fuzzywuzzy? - A formula based on Levenshtein distance and input string lengths__\n",
    "\n",
    "Theoretical Foundation: [Levenshtein distance](https://en.wikipedia.org/wiki/Levenshtein_distance) (edit distance)<br>Fuzzywuzzy implementation: input is 2 strings, output is a ratio <br>\n",
    "```\n",
    "length_sum  = len(str1) + len(str2)\n",
    "l_dist = Levenshtein distance(str1, str2)\n",
    "ratio = (length_sum - l_dist) / length_sum\n",
    "```\n",
    "\n",
    "with variations (weighting, prioritization, ...)"
   ]
  },
  {
   "cell_type": "code",
   "execution_count": 95,
   "id": "9492a06a",
   "metadata": {},
   "outputs": [
    {
     "name": "stdout",
     "output_type": "stream",
     "text": [
      "97\n"
     ]
    }
   ],
   "source": [
    "print(fuzz.ratio(\"this is a test\", \"this is a test!\"))"
   ]
  },
  {
   "cell_type": "code",
   "execution_count": 96,
   "id": "1271d8c7",
   "metadata": {},
   "outputs": [
    {
     "name": "stdout",
     "output_type": "stream",
     "text": [
      "ratio: 0.9655172413793104\n"
     ]
    }
   ],
   "source": [
    "len_short = len(\"this is a test\")\n",
    "len_long = len(\"this is a test!\")\n",
    "l_sum = len_short + len_long\n",
    "l_dist = 1\n",
    "print('ratio:', (l_sum - l_dist) / l_sum)"
   ]
  },
  {
   "cell_type": "markdown",
   "id": "2075f408",
   "metadata": {},
   "source": [
    "__Why sometimes fuzzywuzzy score is not robust? - Rationale based on ratio formula and scoring function__\n",
    "\n",
    "<u>Sensitive to input strings with extreme length.</u> The package tries to normalize the score by some scalers, but still not perfect or not strictly comparable. Possible improvements: 1) Given input strings, we can reverse-engineer the ratio threshold based on Levenshtein distance threshold; 2) Another way of normalization - slice the long string to multiple N-grams to roughly match the length of the short string, then perform fuzzywuzzy for each pair, tho computationally expensive.\n",
    "\n",
    "<u>Scoring function configuration.</u> When we apply the extractOne() function to fuzzy match a string to a list of options, the scoring function is configured as a pre-determined combined approach of the normal ratio and partial ratio (=substring exact match ratio), but it might not fit all use cases. A possible improvement would be customizing the scoring function configuration based on specific use cases."
   ]
  },
  {
   "cell_type": "code",
   "execution_count": 99,
   "id": "c563f99f",
   "metadata": {},
   "outputs": [
    {
     "name": "stdout",
     "output_type": "stream",
     "text": [
      "50\n",
      "15\n"
     ]
    }
   ],
   "source": [
    "# sensitive to input strings\n",
    "print(fuzz.ratio(\"12\", \"13\")) # 50\n",
    "print(fuzz.ratio(\"12222222222\", \"13\")) # 15"
   ]
  },
  {
   "cell_type": "code",
   "execution_count": 105,
   "id": "6db5dc17",
   "metadata": {},
   "outputs": [],
   "source": [
    "# reverse engineering: derive score threshold from l_dist threshold\n",
    "def threshold_converter(str1, str2, l_dist_thres = 0):\n",
    "    l_sum = len(str1) + len(str2)\n",
    "    return (l_sum - l_dist_thres) / l_sum"
   ]
  },
  {
   "cell_type": "code",
   "execution_count": 106,
   "id": "256e9821",
   "metadata": {},
   "outputs": [
    {
     "data": {
      "text/plain": [
       "0.9655172413793104"
      ]
     },
     "execution_count": 106,
     "metadata": {},
     "output_type": "execute_result"
    }
   ],
   "source": [
    "threshold_converter(\"this is a test\", \"this is a test!\", 1)"
   ]
  },
  {
   "cell_type": "code",
   "execution_count": 112,
   "id": "1a285802",
   "metadata": {},
   "outputs": [],
   "source": [
    "# find N-grams and do pair-wise fuzzy match\n",
    "from itertools import islice, tee\n",
    "def find_N_grams(s, N):\n",
    "    N_grams =  list(zip(*(islice(seq, index, None) for index, seq in enumerate(tee(s, N)))))\n",
    "    N_grams = [''.join(i) for i in N_grams]\n",
    "    return N_grams"
   ]
  },
  {
   "cell_type": "code",
   "execution_count": 117,
   "id": "84b77aa4",
   "metadata": {},
   "outputs": [
    {
     "name": "stdout",
     "output_type": "stream",
     "text": [
      "['12', '22', '22', '22', '22', '22', '22', '22', '22', '22']\n"
     ]
    }
   ],
   "source": [
    "print(find_N_grams(\"12222222222\", 2))"
   ]
  },
  {
   "cell_type": "code",
   "execution_count": 119,
   "id": "e7e6bbce",
   "metadata": {},
   "outputs": [],
   "source": [
    "def N_gram_ratio(str1, str2): # str1: shorter string; str2: longer string\n",
    "    if len(str1) > len(str2):\n",
    "        str1, str2 = str2, str1\n",
    "    \n",
    "    str2_N_grams = find_N_grams(str2, len(str1))\n",
    "    \n",
    "    ratios = []\n",
    "    for new_str2 in str2_N_grams:\n",
    "        ratio = fuzz.ratio(new_str2, str1)\n",
    "        ratios.append(ratio)\n",
    "    return max(ratios)"
   ]
  },
  {
   "cell_type": "code",
   "execution_count": 120,
   "id": "0f8f7efa",
   "metadata": {},
   "outputs": [
    {
     "name": "stdout",
     "output_type": "stream",
     "text": [
      "50\n",
      "50\n"
     ]
    }
   ],
   "source": [
    "print(N_gram_ratio(\"12\", \"13\")) # 50\n",
    "print(N_gram_ratio(\"12222222222\", \"13\")) # 50"
   ]
  },
  {
   "cell_type": "markdown",
   "id": "63e95962",
   "metadata": {},
   "source": [
    "# Methods"
   ]
  },
  {
   "cell_type": "markdown",
   "id": "75f9314f",
   "metadata": {},
   "source": [
    "#### Simple Ratio"
   ]
  },
  {
   "cell_type": "code",
   "execution_count": 15,
   "id": "67721277",
   "metadata": {},
   "outputs": [
    {
     "name": "stdout",
     "output_type": "stream",
     "text": [
      "97\n"
     ]
    }
   ],
   "source": [
    "print(fuzz.ratio(\"this is a test\", \"this is a test!\"))"
   ]
  },
  {
   "cell_type": "code",
   "execution_count": 13,
   "id": "452f8038",
   "metadata": {},
   "outputs": [
    {
     "name": "stdout",
     "output_type": "stream",
     "text": [
      "ratio: 0.9655172413793104\n"
     ]
    }
   ],
   "source": [
    "len_short = len(\"this is a test\")\n",
    "len_long = len(\"this is a test!\")\n",
    "l_sum = len_short + len_long\n",
    "l_dist = 1\n",
    "print('ratio:', (l_sum - l_dist) / l_sum)"
   ]
  },
  {
   "cell_type": "code",
   "execution_count": 23,
   "id": "eccc18f6",
   "metadata": {},
   "outputs": [
    {
     "name": "stdout",
     "output_type": "stream",
     "text": [
      "91\n"
     ]
    }
   ],
   "source": [
    "print(fuzz.ratio(\"fuzzy wuzzy was a bear\", \"wuzzy fuzzy was a bear\"))"
   ]
  },
  {
   "cell_type": "code",
   "execution_count": 25,
   "id": "f94188c7",
   "metadata": {},
   "outputs": [
    {
     "name": "stdout",
     "output_type": "stream",
     "text": [
      "ratio: 0.9090909090909091\n"
     ]
    }
   ],
   "source": [
    "len_short = len(\"fuzzy wuzzy was a bear\")\n",
    "len_long = len(\"wuzzy fuzzy was a bear\")\n",
    "l_sum = len_short + len_long\n",
    "l_dist = 4\n",
    "print('ratio:', (l_sum - l_dist) / l_sum)"
   ]
  },
  {
   "cell_type": "markdown",
   "id": "ae16e3ae",
   "metadata": {},
   "source": [
    "#### Partial Ratio"
   ]
  },
  {
   "cell_type": "code",
   "execution_count": 16,
   "id": "135a00fb",
   "metadata": {},
   "outputs": [
    {
     "name": "stdout",
     "output_type": "stream",
     "text": [
      "100\n"
     ]
    }
   ],
   "source": [
    "print(fuzz.partial_ratio(\"this is a test\", \"this is a test!\"))"
   ]
  },
  {
   "cell_type": "code",
   "execution_count": 21,
   "id": "65e988d5",
   "metadata": {},
   "outputs": [
    {
     "name": "stdout",
     "output_type": "stream",
     "text": [
      "100\n",
      "100\n"
     ]
    }
   ],
   "source": [
    "print(fuzz.partial_ratio(\"123\", \"1234\"))\n",
    "print(fuzz.partial_ratio(\"1234\", \"34\"))"
   ]
  },
  {
   "cell_type": "markdown",
   "id": "4d7e62c5",
   "metadata": {},
   "source": [
    "#### Token Sort Ratio"
   ]
  },
  {
   "cell_type": "code",
   "execution_count": 30,
   "id": "10980230",
   "metadata": {},
   "outputs": [
    {
     "data": {
      "text/plain": [
       "100"
      ]
     },
     "execution_count": 30,
     "metadata": {},
     "output_type": "execute_result"
    }
   ],
   "source": [
    "fuzz.token_sort_ratio(\"fuzzy wuzzy was a bear\", \"wuzzy fuzzy was a bear\")"
   ]
  },
  {
   "cell_type": "markdown",
   "id": "d702f716",
   "metadata": {},
   "source": [
    "#### Token Set Ratio"
   ]
  },
  {
   "cell_type": "code",
   "execution_count": 121,
   "id": "ef9e1400",
   "metadata": {},
   "outputs": [
    {
     "data": {
      "text/plain": [
       "100"
      ]
     },
     "execution_count": 121,
     "metadata": {},
     "output_type": "execute_result"
    }
   ],
   "source": [
    "fuzz.token_set_ratio(\"fuzzy was a bear\", \"fuzzy fuzzy was a bear\")"
   ]
  }
 ],
 "metadata": {
  "kernelspec": {
   "display_name": "jupyter_env",
   "language": "python",
   "name": "jupyter_env"
  },
  "language_info": {
   "codemirror_mode": {
    "name": "ipython",
    "version": 3
   },
   "file_extension": ".py",
   "mimetype": "text/x-python",
   "name": "python",
   "nbconvert_exporter": "python",
   "pygments_lexer": "ipython3",
   "version": "3.8.8"
  }
 },
 "nbformat": 4,
 "nbformat_minor": 5
}
